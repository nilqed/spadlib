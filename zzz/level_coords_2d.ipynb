{
 "cells": [
  {
   "cell_type": "markdown",
   "id": "behavioral-bristol",
   "metadata": {},
   "source": [
    "### Level set coordinates for quasi-convex functions in $\\mathbb{R}^2$"
   ]
  },
  {
   "cell_type": "code",
   "execution_count": 1,
   "id": "included-visit",
   "metadata": {},
   "outputs": [
    {
     "name": "stderr",
     "output_type": "stream",
     "text": [
      "Value = \"FriCAS 2020-04-23 compiled at Do Apr 30 00:15:41 CEST 2020\"\n"
     ]
    }
   ],
   "source": [
    ")version"
   ]
  },
  {
   "cell_type": "code",
   "execution_count": 2,
   "id": "confirmed-opinion",
   "metadata": {},
   "outputs": [
    {
     "data": {
      "text/html": [
       "<div style=\"text-align:right;\"><sub><a href=\"https://fricas.github.io/api/Void.html\" target=\"_blank\" style=\"color:blue;text-decoration:none;\">Void</a></sub></div>"
      ]
     },
     "execution_count": 2,
     "metadata": {},
     "output_type": "execute_result"
    }
   ],
   "source": [
    "R ==> Expression Integer"
   ]
  },
  {
   "cell_type": "markdown",
   "id": "prompt-feelings",
   "metadata": {},
   "source": [
    "`simpeq` simplifies the right hand side of an equation."
   ]
  },
  {
   "cell_type": "code",
   "execution_count": 3,
   "id": "gothic-knowing",
   "metadata": {},
   "outputs": [
    {
     "name": "stderr",
     "output_type": "stream",
     "text": [
      "Function declaration simpeq : Equation(Expression(Integer)) -> Equation(\n",
      "Expression(Integer)) has been added to workspace.\n"
     ]
    },
    {
     "data": {
      "text/html": [
       "<div style=\"text-align:right;\"><sub><a href=\"https://fricas.github.io/api/Void.html\" target=\"_blank\" style=\"color:blue;text-decoration:none;\">Void</a></sub></div>"
      ]
     },
     "execution_count": 3,
     "metadata": {},
     "output_type": "execute_result"
    }
   ],
   "source": [
    "simpeq(x:Equation R):Equation R == lhs x = simplify rhs x "
   ]
  },
  {
   "cell_type": "markdown",
   "id": "fancy-poster",
   "metadata": {},
   "source": [
    "Define basic operators for the functions $f(x,y)$ and $h(t,p)$"
   ]
  },
  {
   "cell_type": "code",
   "execution_count": 4,
   "id": "suitable-testament",
   "metadata": {},
   "outputs": [
    {
     "data": {
      "text/plain": [
       "[f, h]\n"
      ]
     },
     "execution_count": 4,
     "metadata": {},
     "output_type": "execute_result"
    },
    {
     "data": {
      "text/html": [
       "<div style=\"text-align:right;\"><sub><a href=\"https://fricas.github.io/api/List.html\" target=\"_blank\" style=\"color:blue;text-decoration:none;\">List</a>(<a href=\"https://fricas.github.io/api/BasicOperator.html\" target=\"_blank\" style=\"color:blue;text-decoration:none;\">BasicOperator</a>)</sub></div>"
      ]
     },
     "metadata": {},
     "output_type": "display_data"
    }
   ],
   "source": [
    "[f,h]:=map(operator,['f,'h])"
   ]
  },
  {
   "cell_type": "code",
   "execution_count": 5,
   "id": "higher-validity",
   "metadata": {},
   "outputs": [],
   "source": [
    ")set output tex on\n",
    ")set output algebra off"
   ]
  },
  {
   "cell_type": "markdown",
   "id": "literary-lunch",
   "metadata": {},
   "source": [
    "Equations for the support function $h(t,p)$ and its derivative w.r.t $p$"
   ]
  },
  {
   "cell_type": "code",
   "execution_count": 6,
   "id": "copyrighted-chapter",
   "metadata": {},
   "outputs": [
    {
     "data": {
      "text/latex": [
       "$$\\def\\sp{^}\\def\\sb{_}\\def\\leqno(#1){}\\def\\erf\\{\\mathrm{erf}}\\def\\sinh{\\mathrm{sinh}}\\def\\zag#1#2{{{ \\left.{#1}\\right|}\\over{\\left|{#2}\\right.}}}\n",
       "{h \n",
       "\\left(\n",
       "{t, \\: p} \n",
       "\\right)}={{y\n",
       "\\  {\\sin \n",
       "\\left(\n",
       "{p} \n",
       "\\right)}}+{x\n",
       "\\  {\\cos \n",
       "\\left(\n",
       "{p} \n",
       "\\right)}}}\n",
       "\\leqno(5)\n",
       "$$\n"
      ]
     },
     "execution_count": 5,
     "metadata": {},
     "output_type": "execute_result"
    },
    {
     "data": {
      "text/html": [
       "<div style=\"text-align:right;\"><sub><a href=\"https://fricas.github.io/api/Equation.html\" target=\"_blank\" style=\"color:blue;text-decoration:none;\">Equation</a>(<a href=\"https://fricas.github.io/api/Expression.html\" target=\"_blank\" style=\"color:blue;text-decoration:none;\">Expression</a>(<a href=\"https://fricas.github.io/api/Integer.html\" target=\"_blank\" style=\"color:blue;text-decoration:none;\">Integer</a>))</sub></div>"
      ]
     },
     "metadata": {},
     "output_type": "display_data"
    },
    {
     "data": {
      "text/latex": [
       "$$\\def\\sp{^}\\def\\sb{_}\\def\\leqno(#1){}\\def\\erf\\{\\mathrm{erf}}\\def\\sinh{\\mathrm{sinh}}\\def\\zag#1#2{{{ \\left.{#1}\\right|}\\over{\\left|{#2}\\right.}}}\n",
       "{{h \\sb {{,2}}} \n",
       "\\left(\n",
       "{t, \\: p} \n",
       "\\right)}={-{x\n",
       "\\  {\\sin \n",
       "\\left(\n",
       "{p} \n",
       "\\right)}}+{y\n",
       "\\  {\\cos \n",
       "\\left(\n",
       "{p} \n",
       "\\right)}}}\n",
       "\\leqno(6)\n",
       "$$\n"
      ]
     },
     "execution_count": 6,
     "metadata": {},
     "output_type": "execute_result"
    },
    {
     "data": {
      "text/html": [
       "<div style=\"text-align:right;\"><sub><a href=\"https://fricas.github.io/api/Equation.html\" target=\"_blank\" style=\"color:blue;text-decoration:none;\">Equation</a>(<a href=\"https://fricas.github.io/api/Expression.html\" target=\"_blank\" style=\"color:blue;text-decoration:none;\">Expression</a>(<a href=\"https://fricas.github.io/api/Integer.html\" target=\"_blank\" style=\"color:blue;text-decoration:none;\">Integer</a>))</sub></div>"
      ]
     },
     "metadata": {},
     "output_type": "display_data"
    }
   ],
   "source": [
    "eq1 := h(t,p) = x * cos(p) + y * sin(p)\n",
    "eq2 := D(eq1,p)"
   ]
  },
  {
   "cell_type": "markdown",
   "id": "exposed-edinburgh",
   "metadata": {},
   "source": [
    "Solve for $x$ and $y$."
   ]
  },
  {
   "cell_type": "code",
   "execution_count": 7,
   "id": "russian-serve",
   "metadata": {},
   "outputs": [
    {
     "data": {
      "text/latex": [
       "$$\\def\\sp{^}\\def\\sb{_}\\def\\leqno(#1){}\\def\\erf\\{\\mathrm{erf}}\\def\\sinh{\\mathrm{sinh}}\\def\\zag#1#2{{{ \\left.{#1}\\right|}\\over{\\left|{#2}\\right.}}}\n",
       "\\left[\n",
       "{x={{-{{\\sin \n",
       "\\left(\n",
       "{p} \n",
       "\\right)}\n",
       "\\  {{h \\sb {{,2}}} \n",
       "\\left(\n",
       "{t, \\: p} \n",
       "\\right)}}+{{h\n",
       "\\left(\n",
       "{t, \\: p} \n",
       "\\right)}\n",
       "\\  {\\cos \n",
       "\\left(\n",
       "{p} \n",
       "\\right)}}}\n",
       "\\over {{{{\\sin \n",
       "\\left(\n",
       "{p} \n",
       "\\right)}}\n",
       "\\sp {2}}+{{{\\cos \n",
       "\\left(\n",
       "{p} \n",
       "\\right)}}\n",
       "\\sp {2}}}}}, \\: {y={{{{\\cos \n",
       "\\left(\n",
       "{p} \n",
       "\\right)}\n",
       "\\  {{h \\sb {{,2}}} \n",
       "\\left(\n",
       "{t, \\: p} \n",
       "\\right)}}+{{h\n",
       "\\left(\n",
       "{t, \\: p} \n",
       "\\right)}\n",
       "\\  {\\sin \n",
       "\\left(\n",
       "{p} \n",
       "\\right)}}}\n",
       "\\over {{{{\\sin \n",
       "\\left(\n",
       "{p} \n",
       "\\right)}}\n",
       "\\sp {2}}+{{{\\cos \n",
       "\\left(\n",
       "{p} \n",
       "\\right)}}\n",
       "\\sp {2}}}}} \n",
       "\\right]\n",
       "\\leqno(7)\n",
       "$$\n"
      ]
     },
     "execution_count": 7,
     "metadata": {},
     "output_type": "execute_result"
    },
    {
     "data": {
      "text/html": [
       "<div style=\"text-align:right;\"><sub><a href=\"https://fricas.github.io/api/List.html\" target=\"_blank\" style=\"color:blue;text-decoration:none;\">List</a>(<a href=\"https://fricas.github.io/api/Equation.html\" target=\"_blank\" style=\"color:blue;text-decoration:none;\">Equation</a>(<a href=\"https://fricas.github.io/api/Expression.html\" target=\"_blank\" style=\"color:blue;text-decoration:none;\">Expression</a>(<a href=\"https://fricas.github.io/api/Integer.html\" target=\"_blank\" style=\"color:blue;text-decoration:none;\">Integer</a>)))</sub></div>"
      ]
     },
     "metadata": {},
     "output_type": "display_data"
    },
    {
     "data": {
      "text/latex": [
       "$$\\def\\sp{^}\\def\\sb{_}\\def\\leqno(#1){}\\def\\erf\\{\\mathrm{erf}}\\def\\sinh{\\mathrm{sinh}}\\def\\zag#1#2{{{ \\left.{#1}\\right|}\\over{\\left|{#2}\\right.}}}\n",
       "x={-{{\\sin \n",
       "\\left(\n",
       "{p} \n",
       "\\right)}\n",
       "\\  {{h \\sb {{,2}}} \n",
       "\\left(\n",
       "{t, \\: p} \n",
       "\\right)}}+{{h\n",
       "\\left(\n",
       "{t, \\: p} \n",
       "\\right)}\n",
       "\\  {\\cos \n",
       "\\left(\n",
       "{p} \n",
       "\\right)}}}\n",
       "\\leqno(8)\n",
       "$$\n"
      ]
     },
     "execution_count": 8,
     "metadata": {},
     "output_type": "execute_result"
    },
    {
     "data": {
      "text/html": [
       "<div style=\"text-align:right;\"><sub><a href=\"https://fricas.github.io/api/Equation.html\" target=\"_blank\" style=\"color:blue;text-decoration:none;\">Equation</a>(<a href=\"https://fricas.github.io/api/Expression.html\" target=\"_blank\" style=\"color:blue;text-decoration:none;\">Expression</a>(<a href=\"https://fricas.github.io/api/Integer.html\" target=\"_blank\" style=\"color:blue;text-decoration:none;\">Integer</a>))</sub></div>"
      ]
     },
     "metadata": {},
     "output_type": "display_data"
    },
    {
     "data": {
      "text/latex": [
       "$$\\def\\sp{^}\\def\\sb{_}\\def\\leqno(#1){}\\def\\erf\\{\\mathrm{erf}}\\def\\sinh{\\mathrm{sinh}}\\def\\zag#1#2{{{ \\left.{#1}\\right|}\\over{\\left|{#2}\\right.}}}\n",
       "y={{{\\cos \n",
       "\\left(\n",
       "{p} \n",
       "\\right)}\n",
       "\\  {{h \\sb {{,2}}} \n",
       "\\left(\n",
       "{t, \\: p} \n",
       "\\right)}}+{{h\n",
       "\\left(\n",
       "{t, \\: p} \n",
       "\\right)}\n",
       "\\  {\\sin \n",
       "\\left(\n",
       "{p} \n",
       "\\right)}}}\n",
       "\\leqno(9)\n",
       "$$\n"
      ]
     },
     "execution_count": 9,
     "metadata": {},
     "output_type": "execute_result"
    },
    {
     "data": {
      "text/html": [
       "<div style=\"text-align:right;\"><sub><a href=\"https://fricas.github.io/api/Equation.html\" target=\"_blank\" style=\"color:blue;text-decoration:none;\">Equation</a>(<a href=\"https://fricas.github.io/api/Expression.html\" target=\"_blank\" style=\"color:blue;text-decoration:none;\">Expression</a>(<a href=\"https://fricas.github.io/api/Integer.html\" target=\"_blank\" style=\"color:blue;text-decoration:none;\">Integer</a>))</sub></div>"
      ]
     },
     "metadata": {},
     "output_type": "display_data"
    }
   ],
   "source": [
    "Sxy := solve([eq1,eq2],[x,y]).1\n",
    "eqx := lhs Sxy.1 = simplify rhs Sxy.1\n",
    "eqy := lhs Sxy.2 = simplify rhs Sxy.2"
   ]
  },
  {
   "cell_type": "markdown",
   "id": "public-lender",
   "metadata": {},
   "source": [
    "Jacobian $[D x,D y]$"
   ]
  },
  {
   "cell_type": "code",
   "execution_count": 8,
   "id": "alone-horizontal",
   "metadata": {},
   "outputs": [
    {
     "data": {
      "text/latex": [
       "$$\\def\\sp{^}\\def\\sb{_}\\def\\leqno(#1){}\\def\\erf\\{\\mathrm{erf}}\\def\\sinh{\\mathrm{sinh}}\\def\\zag#1#2{{{ \\left.{#1}\\right|}\\over{\\left|{#2}\\right.}}}\n",
       "\\left[\n",
       "\\begin{array}{cc}\n",
       "{-{{\\sin \n",
       "\\left(\n",
       "{p} \n",
       "\\right)}\n",
       "\\  {{h \\sb {{{,1}{,2}}}} \n",
       "\\left(\n",
       "{t, \\: p} \n",
       "\\right)}}+{{\\cos\n",
       "\\left(\n",
       "{p} \n",
       "\\right)}\n",
       "\\  {{h \\sb {{,1}}} \n",
       "\\left(\n",
       "{t, \\: p} \n",
       "\\right)}}}\n",
       "& {-{{\\sin \n",
       "\\left(\n",
       "{p} \n",
       "\\right)}\n",
       "\\  {{h \\sb {{{,2}{,2}}}} \n",
       "\\left(\n",
       "{t, \\: p} \n",
       "\\right)}}\n",
       "-{{h \n",
       "\\left(\n",
       "{t, \\: p} \n",
       "\\right)}\n",
       "\\  {\\sin \n",
       "\\left(\n",
       "{p} \n",
       "\\right)}}}\n",
       "\\\\ \n",
       "{{{\\cos \n",
       "\\left(\n",
       "{p} \n",
       "\\right)}\n",
       "\\  {{h \\sb {{{,1}{,2}}}} \n",
       "\\left(\n",
       "{t, \\: p} \n",
       "\\right)}}+{{\\sin\n",
       "\\left(\n",
       "{p} \n",
       "\\right)}\n",
       "\\  {{h \\sb {{,1}}} \n",
       "\\left(\n",
       "{t, \\: p} \n",
       "\\right)}}}\n",
       "& {{{\\cos \n",
       "\\left(\n",
       "{p} \n",
       "\\right)}\n",
       "\\  {{h \\sb {{{,2}{,2}}}} \n",
       "\\left(\n",
       "{t, \\: p} \n",
       "\\right)}}+{{h\n",
       "\\left(\n",
       "{t, \\: p} \n",
       "\\right)}\n",
       "\\  {\\cos \n",
       "\\left(\n",
       "{p} \n",
       "\\right)}}}\n",
       "\\end{array}\n",
       "\\right]\n",
       "\\leqno(10)\n",
       "$$\n"
      ]
     },
     "execution_count": 10,
     "metadata": {},
     "output_type": "execute_result"
    },
    {
     "data": {
      "text/html": [
       "<div style=\"text-align:right;\"><sub><a href=\"https://fricas.github.io/api/Matrix.html\" target=\"_blank\" style=\"color:blue;text-decoration:none;\">Matrix</a>(<a href=\"https://fricas.github.io/api/Expression.html\" target=\"_blank\" style=\"color:blue;text-decoration:none;\">Expression</a>(<a href=\"https://fricas.github.io/api/Integer.html\" target=\"_blank\" style=\"color:blue;text-decoration:none;\">Integer</a>))</sub></div>"
      ]
     },
     "metadata": {},
     "output_type": "display_data"
    },
    {
     "data": {
      "text/latex": [
       "$$\\def\\sp{^}\\def\\sb{_}\\def\\leqno(#1){}\\def\\erf\\{\\mathrm{erf}}\\def\\sinh{\\mathrm{sinh}}\\def\\zag#1#2{{{ \\left.{#1}\\right|}\\over{\\left|{#2}\\right.}}}\n",
       "{{{h \\sb {{,1}}} \n",
       "\\left(\n",
       "{t, \\: p} \n",
       "\\right)}\n",
       "\\  {{h \\sb {{{,2}{,2}}}} \n",
       "\\left(\n",
       "{t, \\: p} \n",
       "\\right)}}+{{h\n",
       "\\left(\n",
       "{t, \\: p} \n",
       "\\right)}\n",
       "\\  {{h \\sb {{,1}}} \n",
       "\\left(\n",
       "{t, \\: p} \n",
       "\\right)}}\n",
       "\\leqno(11)\n",
       "$$\n"
      ]
     },
     "execution_count": 11,
     "metadata": {},
     "output_type": "execute_result"
    },
    {
     "data": {
      "text/html": [
       "<div style=\"text-align:right;\"><sub><a href=\"https://fricas.github.io/api/Expression.html\" target=\"_blank\" style=\"color:blue;text-decoration:none;\">Expression</a>(<a href=\"https://fricas.github.io/api/Integer.html\" target=\"_blank\" style=\"color:blue;text-decoration:none;\">Integer</a>)</sub></div>"
      ]
     },
     "metadata": {},
     "output_type": "display_data"
    }
   ],
   "source": [
    "Jxy := matrix [[D(rhs eqx,t), D(rhs eqx,p)],[D(rhs eqy,t), D(rhs eqy,p)]]\n",
    "detJxy := simplify determinant Jxy"
   ]
  },
  {
   "cell_type": "markdown",
   "id": "blessed-convention",
   "metadata": {},
   "source": [
    "Equation for level curve: $f(x,y)=t$"
   ]
  },
  {
   "cell_type": "code",
   "execution_count": 9,
   "id": "brave-justice",
   "metadata": {},
   "outputs": [
    {
     "data": {
      "text/latex": [
       "$$\\def\\sp{^}\\def\\sb{_}\\def\\leqno(#1){}\\def\\erf\\{\\mathrm{erf}}\\def\\sinh{\\mathrm{sinh}}\\def\\zag#1#2{{{ \\left.{#1}\\right|}\\over{\\left|{#2}\\right.}}}\n",
       "{f \n",
       "\\left(\n",
       "{{-{{\\sin \n",
       "\\left(\n",
       "{p} \n",
       "\\right)}\n",
       "\\  {{h \\sb {{,2}}} \n",
       "\\left(\n",
       "{t, \\: p} \n",
       "\\right)}}+{{h\n",
       "\\left(\n",
       "{t, \\: p} \n",
       "\\right)}\n",
       "\\  {\\cos \n",
       "\\left(\n",
       "{p} \n",
       "\\right)}}},\n",
       "\\: {{{\\cos \n",
       "\\left(\n",
       "{p} \n",
       "\\right)}\n",
       "\\  {{h \\sb {{,2}}} \n",
       "\\left(\n",
       "{t, \\: p} \n",
       "\\right)}}+{{h\n",
       "\\left(\n",
       "{t, \\: p} \n",
       "\\right)}\n",
       "\\  {\\sin \n",
       "\\left(\n",
       "{p} \n",
       "\\right)}}}}\n",
       "\\right)}=t\n",
       "\\leqno(12)\n",
       "$$\n"
      ]
     },
     "execution_count": 12,
     "metadata": {},
     "output_type": "execute_result"
    },
    {
     "data": {
      "text/html": [
       "<div style=\"text-align:right;\"><sub><a href=\"https://fricas.github.io/api/Equation.html\" target=\"_blank\" style=\"color:blue;text-decoration:none;\">Equation</a>(<a href=\"https://fricas.github.io/api/Expression.html\" target=\"_blank\" style=\"color:blue;text-decoration:none;\">Expression</a>(<a href=\"https://fricas.github.io/api/Integer.html\" target=\"_blank\" style=\"color:blue;text-decoration:none;\">Integer</a>))</sub></div>"
      ]
     },
     "metadata": {},
     "output_type": "display_data"
    }
   ],
   "source": [
    "eqf := eval(f(x,y),[eqx,eqy]) = t"
   ]
  },
  {
   "cell_type": "markdown",
   "id": "altered-folks",
   "metadata": {},
   "source": [
    "Differentiate the equation aboce w.r.t. $t$ and $p$."
   ]
  },
  {
   "cell_type": "code",
   "execution_count": 31,
   "id": "fifth-minister",
   "metadata": {},
   "outputs": [
    {
     "data": {
      "text/html": [
       "<div style=\"text-align:right;\"><sub><a href=\"https://fricas.github.io/api/Equation.html\" target=\"_blank\" style=\"color:blue;text-decoration:none;\">Equation</a>(<a href=\"https://fricas.github.io/api/Expression.html\" target=\"_blank\" style=\"color:blue;text-decoration:none;\">Expression</a>(<a href=\"https://fricas.github.io/api/Integer.html\" target=\"_blank\" style=\"color:blue;text-decoration:none;\">Integer</a>))</sub></div>"
      ]
     },
     "execution_count": 56,
     "metadata": {},
     "output_type": "execute_result"
    },
    {
     "data": {
      "text/html": [
       "<div style=\"text-align:right;\"><sub><a href=\"https://fricas.github.io/api/Equation.html\" target=\"_blank\" style=\"color:blue;text-decoration:none;\">Equation</a>(<a href=\"https://fricas.github.io/api/Expression.html\" target=\"_blank\" style=\"color:blue;text-decoration:none;\">Expression</a>(<a href=\"https://fricas.github.io/api/Integer.html\" target=\"_blank\" style=\"color:blue;text-decoration:none;\">Integer</a>))</sub></div>"
      ]
     },
     "execution_count": 57,
     "metadata": {},
     "output_type": "execute_result"
    }
   ],
   "source": [
    "eqft := D(eqf,t);\n",
    "eqfp := D(eqf,p);"
   ]
  },
  {
   "cell_type": "code",
   "execution_count": 28,
   "id": "fantastic-trauma",
   "metadata": {},
   "outputs": [
    {
     "data": {
      "text/html": [
       "<div style=\"text-align:right;\"><sub><a href=\"https://fricas.github.io/api/List.html\" target=\"_blank\" style=\"color:blue;text-decoration:none;\">List</a>(<a href=\"https://fricas.github.io/api/Equation.html\" target=\"_blank\" style=\"color:blue;text-decoration:none;\">Equation</a>(<a href=\"https://fricas.github.io/api/Expression.html\" target=\"_blank\" style=\"color:blue;text-decoration:none;\">Expression</a>(<a href=\"https://fricas.github.io/api/Integer.html\" target=\"_blank\" style=\"color:blue;text-decoration:none;\">Integer</a>)))</sub></div>"
      ]
     },
     "execution_count": 53,
     "metadata": {},
     "output_type": "execute_result"
    },
    {
     "data": {
      "text/latex": [
       "$$\\def\\sp{^}\\def\\sb{_}\\def\\leqno(#1){}\\def\\erf\\{\\mathrm{erf}}\\def\\sinh{\\mathrm{sinh}}\\def\\zag#1#2{{{ \\left.{#1}\\right|}\\over{\\left|{#2}\\right.}}}\n",
       "{{{\\left( -{ft \\  {\\sin \n",
       "\\left(\n",
       "{p} \n",
       "\\right)}}+{fp\n",
       "\\  {\\cos \n",
       "\\left(\n",
       "{p} \n",
       "\\right)}}\n",
       "\\right)}\n",
       "\\  {{h \\sb {{{,1}{,2}}}} \n",
       "\\left(\n",
       "{t, \\: p} \n",
       "\\right)}}+{{\\left(\n",
       "{fp \\  {\\sin \n",
       "\\left(\n",
       "{p} \n",
       "\\right)}}+{ft\n",
       "\\  {\\cos \n",
       "\\left(\n",
       "{p} \n",
       "\\right)}}\n",
       "\\right)}\n",
       "\\  {{h \\sb {{,1}}} \n",
       "\\left(\n",
       "{t, \\: p} \n",
       "\\right)}}}=1\n",
       "\\leqno(54)\n",
       "$$\n"
      ]
     },
     "execution_count": 54,
     "metadata": {},
     "output_type": "execute_result"
    },
    {
     "data": {
      "text/html": [
       "<div style=\"text-align:right;\"><sub><a href=\"https://fricas.github.io/api/Equation.html\" target=\"_blank\" style=\"color:blue;text-decoration:none;\">Equation</a>(<a href=\"https://fricas.github.io/api/Expression.html\" target=\"_blank\" style=\"color:blue;text-decoration:none;\">Expression</a>(<a href=\"https://fricas.github.io/api/Integer.html\" target=\"_blank\" style=\"color:blue;text-decoration:none;\">Integer</a>))</sub></div>"
      ]
     },
     "metadata": {},
     "output_type": "display_data"
    },
    {
     "data": {
      "text/latex": [
       "$$\\def\\sp{^}\\def\\sb{_}\\def\\leqno(#1){}\\def\\erf\\{\\mathrm{erf}}\\def\\sinh{\\mathrm{sinh}}\\def\\zag#1#2{{{ \\left.{#1}\\right|}\\over{\\left|{#2}\\right.}}}\n",
       "{{{\\left( -{ft \\  {\\sin \n",
       "\\left(\n",
       "{p} \n",
       "\\right)}}+{fp\n",
       "\\  {\\cos \n",
       "\\left(\n",
       "{p} \n",
       "\\right)}}\n",
       "\\right)}\n",
       "\\  {{h \\sb {{{,2}{,2}}}} \n",
       "\\left(\n",
       "{t, \\: p} \n",
       "\\right)}}\n",
       "-{ft \\  {h \n",
       "\\left(\n",
       "{t, \\: p} \n",
       "\\right)}\n",
       "\\  {\\sin \n",
       "\\left(\n",
       "{p} \n",
       "\\right)}}+{fp\n",
       "\\  {h \n",
       "\\left(\n",
       "{t, \\: p} \n",
       "\\right)}\n",
       "\\  {\\cos \n",
       "\\left(\n",
       "{p} \n",
       "\\right)}}}=0\n",
       "\\leqno(55)\n",
       "$$\n"
      ]
     },
     "execution_count": 55,
     "metadata": {},
     "output_type": "execute_result"
    },
    {
     "data": {
      "text/html": [
       "<div style=\"text-align:right;\"><sub><a href=\"https://fricas.github.io/api/Equation.html\" target=\"_blank\" style=\"color:blue;text-decoration:none;\">Equation</a>(<a href=\"https://fricas.github.io/api/Expression.html\" target=\"_blank\" style=\"color:blue;text-decoration:none;\">Expression</a>(<a href=\"https://fricas.github.io/api/Integer.html\" target=\"_blank\" style=\"color:blue;text-decoration:none;\">Integer</a>))</sub></div>"
      ]
     },
     "metadata": {},
     "output_type": "display_data"
    }
   ],
   "source": [
    "tmp1:=[eval(D(f(x,y),x),[eqx,eqy])=ft, eval(D(f(x,y),y),[eqx,eqy])=fp];\n",
    "eq3:=eval(eqft, tmp1)\n",
    "eq4:=eval(eqfp, tmp1)"
   ]
  },
  {
   "cell_type": "markdown",
   "id": "arabic-census",
   "metadata": {},
   "source": [
    "Solve for $f_t$ amd $f_p$."
   ]
  },
  {
   "cell_type": "code",
   "execution_count": 12,
   "id": "younger-acrylic",
   "metadata": {},
   "outputs": [
    {
     "name": "stderr",
     "output_type": "stream",
     "text": [
      "Compiling function simpeq with type Equation(Expression(Integer)) -> Equation\n",
      "(Expression(Integer)) \n"
     ]
    },
    {
     "data": {
      "text/latex": [
       "$$\\def\\sp{^}\\def\\sb{_}\\def\\leqno(#1){}\\def\\erf\\{\\mathrm{erf}}\\def\\sinh{\\mathrm{sinh}}\\def\\zag#1#2{{{ \\left.{#1}\\right|}\\over{\\left|{#2}\\right.}}}\n",
       "\\left[\n",
       "{ft={{\\cos \n",
       "\\left(\n",
       "{p} \n",
       "\\right)}\n",
       "\\over {{h \\sb {{,1}}} \n",
       "\\left(\n",
       "{t, \\: p} \n",
       "\\right)}}},\n",
       "\\: {fp={{\\sin \n",
       "\\left(\n",
       "{p} \n",
       "\\right)}\n",
       "\\over {{h \\sb {{,1}}} \n",
       "\\left(\n",
       "{t, \\: p} \n",
       "\\right)}}}\n",
       "\\right]\n",
       "\\leqno(18)\n",
       "$$\n"
      ]
     },
     "execution_count": 18,
     "metadata": {},
     "output_type": "execute_result"
    },
    {
     "data": {
      "text/html": [
       "<div style=\"text-align:right;\"><sub><a href=\"https://fricas.github.io/api/List.html\" target=\"_blank\" style=\"color:blue;text-decoration:none;\">List</a>(<a href=\"https://fricas.github.io/api/Equation.html\" target=\"_blank\" style=\"color:blue;text-decoration:none;\">Equation</a>(<a href=\"https://fricas.github.io/api/Expression.html\" target=\"_blank\" style=\"color:blue;text-decoration:none;\">Expression</a>(<a href=\"https://fricas.github.io/api/Integer.html\" target=\"_blank\" style=\"color:blue;text-decoration:none;\">Integer</a>)))</sub></div>"
      ]
     },
     "metadata": {},
     "output_type": "display_data"
    }
   ],
   "source": [
    "S1:=map(simpeq, solve([eq3,eq4],[ft,fp]).1)"
   ]
  },
  {
   "cell_type": "markdown",
   "id": "thirty-efficiency",
   "metadata": {},
   "source": [
    "Now same for second derivatives."
   ]
  },
  {
   "cell_type": "code",
   "execution_count": 22,
   "id": "norman-circus",
   "metadata": {},
   "outputs": [
    {
     "data": {
      "text/html": [
       "<div style=\"text-align:right;\"><sub><a href=\"https://fricas.github.io/api/Equation.html\" target=\"_blank\" style=\"color:blue;text-decoration:none;\">Equation</a>(<a href=\"https://fricas.github.io/api/Expression.html\" target=\"_blank\" style=\"color:blue;text-decoration:none;\">Expression</a>(<a href=\"https://fricas.github.io/api/Integer.html\" target=\"_blank\" style=\"color:blue;text-decoration:none;\">Integer</a>))</sub></div>"
      ]
     },
     "execution_count": 38,
     "metadata": {},
     "output_type": "execute_result"
    },
    {
     "data": {
      "text/html": [
       "<div style=\"text-align:right;\"><sub><a href=\"https://fricas.github.io/api/Equation.html\" target=\"_blank\" style=\"color:blue;text-decoration:none;\">Equation</a>(<a href=\"https://fricas.github.io/api/Expression.html\" target=\"_blank\" style=\"color:blue;text-decoration:none;\">Expression</a>(<a href=\"https://fricas.github.io/api/Integer.html\" target=\"_blank\" style=\"color:blue;text-decoration:none;\">Integer</a>))</sub></div>"
      ]
     },
     "execution_count": 39,
     "metadata": {},
     "output_type": "execute_result"
    },
    {
     "data": {
      "text/html": [
       "<div style=\"text-align:right;\"><sub><a href=\"https://fricas.github.io/api/Equation.html\" target=\"_blank\" style=\"color:blue;text-decoration:none;\">Equation</a>(<a href=\"https://fricas.github.io/api/Expression.html\" target=\"_blank\" style=\"color:blue;text-decoration:none;\">Expression</a>(<a href=\"https://fricas.github.io/api/Integer.html\" target=\"_blank\" style=\"color:blue;text-decoration:none;\">Integer</a>))</sub></div>"
      ]
     },
     "execution_count": 40,
     "metadata": {},
     "output_type": "execute_result"
    }
   ],
   "source": [
    "eqftt := D(eqf,t,2);\n",
    "eqfpp := D(eqf,p,2);\n",
    "eqftp := D(eqft,p);"
   ]
  },
  {
   "cell_type": "code",
   "execution_count": 23,
   "id": "subjective-queue",
   "metadata": {},
   "outputs": [
    {
     "data": {
      "text/html": [
       "<div style=\"text-align:right;\"><sub><a href=\"https://fricas.github.io/api/List.html\" target=\"_blank\" style=\"color:blue;text-decoration:none;\">List</a>(<a href=\"https://fricas.github.io/api/Equation.html\" target=\"_blank\" style=\"color:blue;text-decoration:none;\">Equation</a>(<a href=\"https://fricas.github.io/api/Expression.html\" target=\"_blank\" style=\"color:blue;text-decoration:none;\">Expression</a>(<a href=\"https://fricas.github.io/api/Integer.html\" target=\"_blank\" style=\"color:blue;text-decoration:none;\">Integer</a>)))</sub></div>"
      ]
     },
     "execution_count": 41,
     "metadata": {},
     "output_type": "execute_result"
    },
    {
     "data": {
      "text/html": [
       "<div style=\"text-align:right;\"><sub><a href=\"https://fricas.github.io/api/List.html\" target=\"_blank\" style=\"color:blue;text-decoration:none;\">List</a>(<a href=\"https://fricas.github.io/api/Equation.html\" target=\"_blank\" style=\"color:blue;text-decoration:none;\">Equation</a>(<a href=\"https://fricas.github.io/api/Expression.html\" target=\"_blank\" style=\"color:blue;text-decoration:none;\">Expression</a>(<a href=\"https://fricas.github.io/api/Integer.html\" target=\"_blank\" style=\"color:blue;text-decoration:none;\">Integer</a>)))</sub></div>"
      ]
     },
     "execution_count": 42,
     "metadata": {},
     "output_type": "execute_result"
    },
    {
     "data": {
      "text/html": [
       "<div style=\"text-align:right;\"><sub><a href=\"https://fricas.github.io/api/Equation.html\" target=\"_blank\" style=\"color:blue;text-decoration:none;\">Equation</a>(<a href=\"https://fricas.github.io/api/Expression.html\" target=\"_blank\" style=\"color:blue;text-decoration:none;\">Expression</a>(<a href=\"https://fricas.github.io/api/Integer.html\" target=\"_blank\" style=\"color:blue;text-decoration:none;\">Integer</a>))</sub></div>"
      ]
     },
     "execution_count": 43,
     "metadata": {},
     "output_type": "execute_result"
    },
    {
     "data": {
      "text/html": [
       "<div style=\"text-align:right;\"><sub><a href=\"https://fricas.github.io/api/Equation.html\" target=\"_blank\" style=\"color:blue;text-decoration:none;\">Equation</a>(<a href=\"https://fricas.github.io/api/Expression.html\" target=\"_blank\" style=\"color:blue;text-decoration:none;\">Expression</a>(<a href=\"https://fricas.github.io/api/Integer.html\" target=\"_blank\" style=\"color:blue;text-decoration:none;\">Integer</a>))</sub></div>"
      ]
     },
     "execution_count": 44,
     "metadata": {},
     "output_type": "execute_result"
    },
    {
     "data": {
      "text/html": [
       "<div style=\"text-align:right;\"><sub><a href=\"https://fricas.github.io/api/Equation.html\" target=\"_blank\" style=\"color:blue;text-decoration:none;\">Equation</a>(<a href=\"https://fricas.github.io/api/Expression.html\" target=\"_blank\" style=\"color:blue;text-decoration:none;\">Expression</a>(<a href=\"https://fricas.github.io/api/Integer.html\" target=\"_blank\" style=\"color:blue;text-decoration:none;\">Integer</a>))</sub></div>"
      ]
     },
     "execution_count": 45,
     "metadata": {},
     "output_type": "execute_result"
    }
   ],
   "source": [
    "tmp2:=[eval(D(f(x,y),x,2),[eqx,eqy])=ftt, eval(D(f(x,y),y,2),[eqx,eqy])=fpp, _\n",
    "       eval(D(f(x,y),[x,y]),[eqx,eqy])=ftp];\n",
    "tmp3:=concat(tmp1,tmp2);\n",
    "eq5 := eval(eval(eqftt, tmp3), S1);\n",
    "eq6 := eval(eval(eqfpp, tmp3), S1);\n",
    "eq7 := eval(eval(eqftp, tmp3), S1);"
   ]
  },
  {
   "cell_type": "markdown",
   "id": "obvious-printer",
   "metadata": {},
   "source": [
    "Solve for $f_{tt}, f_{pp}$ and $f_{tp}$."
   ]
  },
  {
   "cell_type": "code",
   "execution_count": 24,
   "id": "instant-politics",
   "metadata": {},
   "outputs": [
    {
     "data": {
      "text/html": [
       "<div style=\"text-align:right;\"><sub><a href=\"https://fricas.github.io/api/List.html\" target=\"_blank\" style=\"color:blue;text-decoration:none;\">List</a>(<a href=\"https://fricas.github.io/api/Equation.html\" target=\"_blank\" style=\"color:blue;text-decoration:none;\">Equation</a>(<a href=\"https://fricas.github.io/api/Expression.html\" target=\"_blank\" style=\"color:blue;text-decoration:none;\">Expression</a>(<a href=\"https://fricas.github.io/api/Integer.html\" target=\"_blank\" style=\"color:blue;text-decoration:none;\">Integer</a>)))</sub></div>"
      ]
     },
     "execution_count": 46,
     "metadata": {},
     "output_type": "execute_result"
    }
   ],
   "source": [
    "S2:=map(simpeq, solve([eq5,eq6,eq7],[ftt,fpp,ftp]).1);"
   ]
  },
  {
   "cell_type": "code",
   "execution_count": 16,
   "id": "ecological-conducting",
   "metadata": {},
   "outputs": [
    {
     "data": {
      "text/latex": [
       "$$\\def\\sp{^}\\def\\sb{_}\\def\\leqno(#1){}\\def\\erf\\{\\mathrm{erf}}\\def\\sinh{\\mathrm{sinh}}\\def\\zag#1#2{{{ \\left.{#1}\\right|}\\over{\\left|{#2}\\right.}}}\n",
       "{ftt+fpp}={{-{{{h \\sb {{{,1}{,1}}}} \n",
       "\\left(\n",
       "{t, \\: p} \n",
       "\\right)}\n",
       "\\  {{h \\sb {{{,2}{,2}}}} \n",
       "\\left(\n",
       "{t, \\: p} \n",
       "\\right)}}\n",
       "-{{h \n",
       "\\left(\n",
       "{t, \\: p} \n",
       "\\right)}\n",
       "\\  {{h \\sb {{{,1}{,1}}}} \n",
       "\\left(\n",
       "{t, \\: p} \n",
       "\\right)}}+{{{{h\n",
       "\\sb {{{,1}{,2}}}} \n",
       "\\left(\n",
       "{t, \\: p} \n",
       "\\right)}}\n",
       "\\sp {2}}+{{{{h \\sb {{,1}}} \n",
       "\\left(\n",
       "{t, \\: p} \n",
       "\\right)}}\n",
       "\\sp {2}}} \\over {{{{{{h \\sb {{,1}}} \n",
       "\\left(\n",
       "{t, \\: p} \n",
       "\\right)}}\n",
       "\\sp {3}} \\  {{h \\sb {{{,2}{,2}}}} \n",
       "\\left(\n",
       "{t, \\: p} \n",
       "\\right)}}+{{h\n",
       "\\left(\n",
       "{t, \\: p} \n",
       "\\right)}\n",
       "\\  {{{{h \\sb {{,1}}} \n",
       "\\left(\n",
       "{t, \\: p} \n",
       "\\right)}}\n",
       "\\sp {3}}}}} \n",
       "\\leqno(28)\n",
       "$$\n"
      ]
     },
     "execution_count": 28,
     "metadata": {},
     "output_type": "execute_result"
    },
    {
     "data": {
      "text/html": [
       "<div style=\"text-align:right;\"><sub><a href=\"https://fricas.github.io/api/Equation.html\" target=\"_blank\" style=\"color:blue;text-decoration:none;\">Equation</a>(<a href=\"https://fricas.github.io/api/Expression.html\" target=\"_blank\" style=\"color:blue;text-decoration:none;\">Expression</a>(<a href=\"https://fricas.github.io/api/Integer.html\" target=\"_blank\" style=\"color:blue;text-decoration:none;\">Integer</a>))</sub></div>"
      ]
     },
     "metadata": {},
     "output_type": "display_data"
    },
    {
     "data": {
      "text/latex": [
       "$$\\def\\sp{^}\\def\\sb{_}\\def\\leqno(#1){}\\def\\erf\\{\\mathrm{erf}}\\def\\sinh{\\mathrm{sinh}}\\def\\zag#1#2{{{ \\left.{#1}\\right|}\\over{\\left|{#2}\\right.}}}\n",
       "{{fpp \\  ftt} -{{ftp} \\sp {2}}}=-{{{h \\sb {{{,1}{,1}}}} \n",
       "\\left(\n",
       "{t, \\: p} \n",
       "\\right)}\n",
       "\\over {{{{{{h \\sb {{,1}}} \n",
       "\\left(\n",
       "{t, \\: p} \n",
       "\\right)}}\n",
       "\\sp {4}} \\  {{h \\sb {{{,2}{,2}}}} \n",
       "\\left(\n",
       "{t, \\: p} \n",
       "\\right)}}+{{h\n",
       "\\left(\n",
       "{t, \\: p} \n",
       "\\right)}\n",
       "\\  {{{{h \\sb {{,1}}} \n",
       "\\left(\n",
       "{t, \\: p} \n",
       "\\right)}}\n",
       "\\sp {4}}}}} \n",
       "\\leqno(29)\n",
       "$$\n"
      ]
     },
     "execution_count": 29,
     "metadata": {},
     "output_type": "execute_result"
    },
    {
     "data": {
      "text/html": [
       "<div style=\"text-align:right;\"><sub><a href=\"https://fricas.github.io/api/Equation.html\" target=\"_blank\" style=\"color:blue;text-decoration:none;\">Equation</a>(<a href=\"https://fricas.github.io/api/Expression.html\" target=\"_blank\" style=\"color:blue;text-decoration:none;\">Expression</a>(<a href=\"https://fricas.github.io/api/Integer.html\" target=\"_blank\" style=\"color:blue;text-decoration:none;\">Integer</a>))</sub></div>"
      ]
     },
     "metadata": {},
     "output_type": "display_data"
    }
   ],
   "source": [
    "simpeq(S2.1+S2.2)\n",
    "simpeq(S2.1*S2.2-S2.3^2)"
   ]
  },
  {
   "cell_type": "markdown",
   "id": "cosmetic-transformation",
   "metadata": {},
   "source": [
    "For better readability define a substitution list.\n",
    "We abbreviate $h(t,p)$ as $H$ and so on."
   ]
  },
  {
   "cell_type": "code",
   "execution_count": 17,
   "id": "hawaiian-visit",
   "metadata": {},
   "outputs": [
    {
     "data": {
      "text/latex": [
       "$$\\def\\sp{^}\\def\\sb{_}\\def\\leqno(#1){}\\def\\erf\\{\\mathrm{erf}}\\def\\sinh{\\mathrm{sinh}}\\def\\zag#1#2{{{ \\left.{#1}\\right|}\\over{\\left|{#2}\\right.}}}\n",
       "\\left[\n",
       "{{h \n",
       "\\left(\n",
       "{t, \\: p} \n",
       "\\right)}=H},\n",
       "\\: {{{h \\sb {{,1}}} \n",
       "\\left(\n",
       "{t, \\: p} \n",
       "\\right)}={H\n",
       "\\sb {t}}}, \\: {{{h \\sb {{,2}}} \n",
       "\\left(\n",
       "{t, \\: p} \n",
       "\\right)}={H\n",
       "\\sb {p}}}, \\: {{{h \\sb {{{,1}{,1}}}} \n",
       "\\left(\n",
       "{t, \\: p} \n",
       "\\right)}={H\n",
       "\\sb {tt}}}, \\: {{{h \\sb {{{,2}{,2}}}} \n",
       "\\left(\n",
       "{t, \\: p} \n",
       "\\right)}={H\n",
       "\\sb {pp}}}, \\: {{{h \\sb {{{,1}{,2}}}} \n",
       "\\left(\n",
       "{t, \\: p} \n",
       "\\right)}={H\n",
       "\\sb {tp}}} \n",
       "\\right]\n",
       "\\leqno(30)\n",
       "$$\n"
      ]
     },
     "execution_count": 30,
     "metadata": {},
     "output_type": "execute_result"
    },
    {
     "data": {
      "text/html": [
       "<div style=\"text-align:right;\"><sub><a href=\"https://fricas.github.io/api/List.html\" target=\"_blank\" style=\"color:blue;text-decoration:none;\">List</a>(<a href=\"https://fricas.github.io/api/Equation.html\" target=\"_blank\" style=\"color:blue;text-decoration:none;\">Equation</a>(<a href=\"https://fricas.github.io/api/Expression.html\" target=\"_blank\" style=\"color:blue;text-decoration:none;\">Expression</a>(<a href=\"https://fricas.github.io/api/Integer.html\" target=\"_blank\" style=\"color:blue;text-decoration:none;\">Integer</a>)))</sub></div>"
      ]
     },
     "metadata": {},
     "output_type": "display_data"
    }
   ],
   "source": [
    "SL:=[h(t,p)=H, D(h(t,p),t)=H[t], D(h(t,p),p)=H[p], D(h(t,p),t,2)=H[tt],_\n",
    "      D(h(t,p),p,2)=H[pp], D(h(t,p),[t,p])=H[tp]]"
   ]
  },
  {
   "cell_type": "markdown",
   "id": "handed-palestine",
   "metadata": {},
   "source": [
    "We now use the letter $u$ for the function $f$, i.e. $u(x,y)=f(x,y)$:"
   ]
  },
  {
   "cell_type": "code",
   "execution_count": 18,
   "id": "substantial-incidence",
   "metadata": {},
   "outputs": [
    {
     "data": {
      "text/latex": [
       "$$\\def\\sp{^}\\def\\sb{_}\\def\\leqno(#1){}\\def\\erf\\{\\mathrm{erf}}\\def\\sinh{\\mathrm{sinh}}\\def\\zag#1#2{{{ \\left.{#1}\\right|}\\over{\\left|{#2}\\right.}}}\n",
       "{u \\sb {x}}={{\\cos \n",
       "\\left(\n",
       "{p} \n",
       "\\right)}\n",
       "\\over {H \\sb {t}}} \n",
       "\\leqno(31)\n",
       "$$\n"
      ]
     },
     "execution_count": 31,
     "metadata": {},
     "output_type": "execute_result"
    },
    {
     "data": {
      "text/html": [
       "<div style=\"text-align:right;\"><sub><a href=\"https://fricas.github.io/api/Equation.html\" target=\"_blank\" style=\"color:blue;text-decoration:none;\">Equation</a>(<a href=\"https://fricas.github.io/api/Expression.html\" target=\"_blank\" style=\"color:blue;text-decoration:none;\">Expression</a>(<a href=\"https://fricas.github.io/api/Integer.html\" target=\"_blank\" style=\"color:blue;text-decoration:none;\">Integer</a>))</sub></div>"
      ]
     },
     "metadata": {},
     "output_type": "display_data"
    },
    {
     "data": {
      "text/latex": [
       "$$\\def\\sp{^}\\def\\sb{_}\\def\\leqno(#1){}\\def\\erf\\{\\mathrm{erf}}\\def\\sinh{\\mathrm{sinh}}\\def\\zag#1#2{{{ \\left.{#1}\\right|}\\over{\\left|{#2}\\right.}}}\n",
       "{u \\sb {y}}={{\\sin \n",
       "\\left(\n",
       "{p} \n",
       "\\right)}\n",
       "\\over {H \\sb {t}}} \n",
       "\\leqno(32)\n",
       "$$\n"
      ]
     },
     "execution_count": 32,
     "metadata": {},
     "output_type": "execute_result"
    },
    {
     "data": {
      "text/html": [
       "<div style=\"text-align:right;\"><sub><a href=\"https://fricas.github.io/api/Equation.html\" target=\"_blank\" style=\"color:blue;text-decoration:none;\">Equation</a>(<a href=\"https://fricas.github.io/api/Expression.html\" target=\"_blank\" style=\"color:blue;text-decoration:none;\">Expression</a>(<a href=\"https://fricas.github.io/api/Integer.html\" target=\"_blank\" style=\"color:blue;text-decoration:none;\">Integer</a>))</sub></div>"
      ]
     },
     "metadata": {},
     "output_type": "display_data"
    }
   ],
   "source": [
    "equx := u[x] = subst(rhs S1.1,SL)\n",
    "equy := u[y] = subst(rhs S1.2,SL)"
   ]
  },
  {
   "cell_type": "code",
   "execution_count": 19,
   "id": "physical-breakdown",
   "metadata": {},
   "outputs": [
    {
     "data": {
      "text/latex": [
       "$$\\def\\sp{^}\\def\\sb{_}\\def\\leqno(#1){}\\def\\erf\\{\\mathrm{erf}}\\def\\sinh{\\mathrm{sinh}}\\def\\zag#1#2{{{ \\left.{#1}\\right|}\\over{\\left|{#2}\\right.}}}\n",
       "{u \\sb {xx}}={{{2 \\  {H \\sb {t}} \\  {H \\sb {tp}} \\  {\\cos \n",
       "\\left(\n",
       "{p} \n",
       "\\right)}\n",
       "\\  {\\sin \n",
       "\\left(\n",
       "{p} \n",
       "\\right)}}+{{\\left(\n",
       "-{{H \\sb {tt}} \\  H} -{{H \\sb {pp}} \\  {H \\sb {tt}}}+{{{H \\sb {tp}}} \\sp {2}} \n",
       "-{{{H \\sb {t}}} \\sp {2}} \n",
       "\\right)}\n",
       "\\  {{{\\cos \n",
       "\\left(\n",
       "{p} \n",
       "\\right)}}\n",
       "\\sp {2}}}+{{{H \\sb {t}}} \\sp {2}}} \\over {{{{{H \\sb {t}}} \\sp {3}} \\  H}+{{H \n",
       "\\sb {pp}} \\  {{{H \\sb {t}}} \\sp {3}}}}} \n",
       "\\leqno(33)\n",
       "$$\n"
      ]
     },
     "execution_count": 33,
     "metadata": {},
     "output_type": "execute_result"
    },
    {
     "data": {
      "text/html": [
       "<div style=\"text-align:right;\"><sub><a href=\"https://fricas.github.io/api/Equation.html\" target=\"_blank\" style=\"color:blue;text-decoration:none;\">Equation</a>(<a href=\"https://fricas.github.io/api/Expression.html\" target=\"_blank\" style=\"color:blue;text-decoration:none;\">Expression</a>(<a href=\"https://fricas.github.io/api/Integer.html\" target=\"_blank\" style=\"color:blue;text-decoration:none;\">Integer</a>))</sub></div>"
      ]
     },
     "metadata": {},
     "output_type": "display_data"
    },
    {
     "data": {
      "text/latex": [
       "$$\\def\\sp{^}\\def\\sb{_}\\def\\leqno(#1){}\\def\\erf\\{\\mathrm{erf}}\\def\\sinh{\\mathrm{sinh}}\\def\\zag#1#2{{{ \\left.{#1}\\right|}\\over{\\left|{#2}\\right.}}}\n",
       "{u \\sb {yy}}={{-{2 \\  {H \\sb {t}} \\  {H \\sb {tp}} \\  {\\cos \n",
       "\\left(\n",
       "{p} \n",
       "\\right)}\n",
       "\\  {\\sin \n",
       "\\left(\n",
       "{p} \n",
       "\\right)}}+{{\\left(\n",
       "{{H \\sb {tt}} \\  H}+{{H \\sb {pp}} \\  {H \\sb {tt}}} -{{{H \\sb {tp}}} \\sp \n",
       "{2}}+{{{H \\sb {t}}} \\sp {2}} \n",
       "\\right)}\n",
       "\\  {{{\\cos \n",
       "\\left(\n",
       "{p} \n",
       "\\right)}}\n",
       "\\sp {2}}} -{{H \\sb {tt}} \\  H} -{{H \\sb {pp}} \\  {H \\sb {tt}}}+{{{H \\sb \n",
       "{tp}}} \\sp {2}}} \\over {{{{{H \\sb {t}}} \\sp {3}} \\  H}+{{H \\sb {pp}} \\  {{{H \n",
       "\\sb {t}}} \\sp {3}}}}} \n",
       "\\leqno(34)\n",
       "$$\n"
      ]
     },
     "execution_count": 34,
     "metadata": {},
     "output_type": "execute_result"
    },
    {
     "data": {
      "text/html": [
       "<div style=\"text-align:right;\"><sub><a href=\"https://fricas.github.io/api/Equation.html\" target=\"_blank\" style=\"color:blue;text-decoration:none;\">Equation</a>(<a href=\"https://fricas.github.io/api/Expression.html\" target=\"_blank\" style=\"color:blue;text-decoration:none;\">Expression</a>(<a href=\"https://fricas.github.io/api/Integer.html\" target=\"_blank\" style=\"color:blue;text-decoration:none;\">Integer</a>))</sub></div>"
      ]
     },
     "metadata": {},
     "output_type": "display_data"
    },
    {
     "data": {
      "text/latex": [
       "$$\\def\\sp{^}\\def\\sb{_}\\def\\leqno(#1){}\\def\\erf\\{\\mathrm{erf}}\\def\\sinh{\\mathrm{sinh}}\\def\\zag#1#2{{{ \\left.{#1}\\right|}\\over{\\left|{#2}\\right.}}}\n",
       "{u \\sb {xy}}={{{{\\left( -{{H \\sb {tt}} \\  H} -{{H \\sb {pp}} \\  {H \\sb \n",
       "{tt}}}+{{{H \\sb {tp}}} \\sp {2}} -{{{H \\sb {t}}} \\sp {2}} \n",
       "\\right)}\n",
       "\\  {\\cos \n",
       "\\left(\n",
       "{p} \n",
       "\\right)}\n",
       "\\  {\\sin \n",
       "\\left(\n",
       "{p} \n",
       "\\right)}}\n",
       "-{2 \\  {H \\sb {t}} \\  {H \\sb {tp}} \\  {{{\\cos \n",
       "\\left(\n",
       "{p} \n",
       "\\right)}}\n",
       "\\sp {2}}}+{{H \\sb {t}} \\  {H \\sb {tp}}}} \\over {{{{{H \\sb {t}}} \\sp {3}} \\  \n",
       "H}+{{H \\sb {pp}} \\  {{{H \\sb {t}}} \\sp {3}}}}} \n",
       "\\leqno(35)\n",
       "$$\n"
      ]
     },
     "execution_count": 35,
     "metadata": {},
     "output_type": "execute_result"
    },
    {
     "data": {
      "text/html": [
       "<div style=\"text-align:right;\"><sub><a href=\"https://fricas.github.io/api/Equation.html\" target=\"_blank\" style=\"color:blue;text-decoration:none;\">Equation</a>(<a href=\"https://fricas.github.io/api/Expression.html\" target=\"_blank\" style=\"color:blue;text-decoration:none;\">Expression</a>(<a href=\"https://fricas.github.io/api/Integer.html\" target=\"_blank\" style=\"color:blue;text-decoration:none;\">Integer</a>))</sub></div>"
      ]
     },
     "metadata": {},
     "output_type": "display_data"
    }
   ],
   "source": [
    "equxx := u[xx] = subst(rhs S2.1,SL)\n",
    "equyy := u[yy] = subst(rhs S2.2,SL)\n",
    "equxy := u[xy] = subst(rhs S2.3,SL)"
   ]
  },
  {
   "cell_type": "code",
   "execution_count": 20,
   "id": "matched-district",
   "metadata": {},
   "outputs": [
    {
     "data": {
      "text/latex": [
       "$$\\def\\sp{^}\\def\\sb{_}\\def\\leqno(#1){}\\def\\erf\\{\\mathrm{erf}}\\def\\sinh{\\mathrm{sinh}}\\def\\zag#1#2{{{ \\left.{#1}\\right|}\\over{\\left|{#2}\\right.}}}\n",
       "{{{u \\sb {xx}} \\  {u \\sb {yy}}} -{{{u \\sb {xy}}} \\sp {2}}}=-{{H \\sb {tt}} \n",
       "\\over {{{{{H \\sb {t}}} \\sp {4}} \\  H}+{{H \\sb {pp}} \\  {{{H \\sb {t}}} \\sp \n",
       "{4}}}}} \n",
       "\\leqno(36)\n",
       "$$\n"
      ]
     },
     "execution_count": 36,
     "metadata": {},
     "output_type": "execute_result"
    },
    {
     "data": {
      "text/html": [
       "<div style=\"text-align:right;\"><sub><a href=\"https://fricas.github.io/api/Equation.html\" target=\"_blank\" style=\"color:blue;text-decoration:none;\">Equation</a>(<a href=\"https://fricas.github.io/api/Expression.html\" target=\"_blank\" style=\"color:blue;text-decoration:none;\">Expression</a>(<a href=\"https://fricas.github.io/api/Integer.html\" target=\"_blank\" style=\"color:blue;text-decoration:none;\">Integer</a>))</sub></div>"
      ]
     },
     "metadata": {},
     "output_type": "display_data"
    }
   ],
   "source": [
    " eqdet:=simpeq(equxx*equyy-equxy^2)"
   ]
  },
  {
   "cell_type": "code",
   "execution_count": 21,
   "id": "tribal-replacement",
   "metadata": {},
   "outputs": [
    {
     "data": {
      "text/latex": [
       "$$\\def\\sp{^}\\def\\sb{_}\\def\\leqno(#1){}\\def\\erf\\{\\mathrm{erf}}\\def\\sinh{\\mathrm{sinh}}\\def\\zag#1#2{{{ \\left.{#1}\\right|}\\over{\\left|{#2}\\right.}}}\n",
       "{{u \\sb {yy}}+{u \\sb {xx}}}={{-{{H \\sb {tt}} \\  H} -{{H \\sb {pp}} \\  {H \\sb \n",
       "{tt}}}+{{{H \\sb {tp}}} \\sp {2}}+{{{H \\sb {t}}} \\sp {2}}} \\over {{{{{H \\sb \n",
       "{t}}} \\sp {3}} \\  H}+{{H \\sb {pp}} \\  {{{H \\sb {t}}} \\sp {3}}}}} \n",
       "\\leqno(37)\n",
       "$$\n"
      ]
     },
     "execution_count": 37,
     "metadata": {},
     "output_type": "execute_result"
    },
    {
     "data": {
      "text/html": [
       "<div style=\"text-align:right;\"><sub><a href=\"https://fricas.github.io/api/Equation.html\" target=\"_blank\" style=\"color:blue;text-decoration:none;\">Equation</a>(<a href=\"https://fricas.github.io/api/Expression.html\" target=\"_blank\" style=\"color:blue;text-decoration:none;\">Expression</a>(<a href=\"https://fricas.github.io/api/Integer.html\" target=\"_blank\" style=\"color:blue;text-decoration:none;\">Integer</a>))</sub></div>"
      ]
     },
     "metadata": {},
     "output_type": "display_data"
    }
   ],
   "source": [
    "eqlap:=simpeq(equxx+equyy)"
   ]
  },
  {
   "cell_type": "markdown",
   "id": "alpha-punch",
   "metadata": {},
   "source": [
    "We know that the solutions of $\\Delta u + 1= 0 \\ \\mathrm{in}\\ \\Omega$, and $u=0\\ \\mathrm{on}\n",
    "\\ \\partial\\Omega$, have convex level lines provided $\\Omega\\in\\mathbb{R}^2$ is a convex domain."
   ]
  },
  {
   "cell_type": "code",
   "execution_count": 32,
   "id": "intelligent-indie",
   "metadata": {},
   "outputs": [
    {
     "data": {
      "text/html": [
       "<div style=\"text-align:right;\"><sub><a href=\"https://fricas.github.io/api/Expression.html\" target=\"_blank\" style=\"color:blue;text-decoration:none;\">Expression</a>(<a href=\"https://fricas.github.io/api/Integer.html\" target=\"_blank\" style=\"color:blue;text-decoration:none;\">Integer</a>)</sub></div>"
      ]
     },
     "execution_count": 58,
     "metadata": {},
     "output_type": "execute_result"
    },
    {
     "data": {
      "text/latex": [
       "$$\\def\\sp{^}\\def\\sb{_}\\def\\leqno(#1){}\\def\\erf\\{\\mathrm{erf}}\\def\\sinh{\\mathrm{sinh}}\\def\\zag#1#2{{{ \\left.{#1}\\right|}\\over{\\left|{#2}\\right.}}}\n",
       "{{{H \\sb {tt}} \\  H}+{{H \\sb {pp}} \\  {H \\sb {tt}}} -{{{H \\sb {tp}}} \\sp {2}} \n",
       "-{{{H \\sb {t}}} \\sp {2}}}={{{{{H \\sb {t}}} \\sp {3}} \\  H}+{{H \\sb {pp}} \\  \n",
       "{{{H \\sb {t}}} \\sp {3}}}} \n",
       "\\leqno(59)\n",
       "$$\n"
      ]
     },
     "execution_count": 59,
     "metadata": {},
     "output_type": "execute_result"
    },
    {
     "data": {
      "text/html": [
       "<div style=\"text-align:right;\"><sub><a href=\"https://fricas.github.io/api/Equation.html\" target=\"_blank\" style=\"color:blue;text-decoration:none;\">Equation</a>(<a href=\"https://fricas.github.io/api/SparseMultivariatePolynomial.html\" target=\"_blank\" style=\"color:blue;text-decoration:none;\">SparseMultivariatePolynomial</a>(<a href=\"https://fricas.github.io/api/Integer.html\" target=\"_blank\" style=\"color:blue;text-decoration:none;\">Integer</a>,<a href=\"https://fricas.github.io/api/Kernel.html\" target=\"_blank\" style=\"color:blue;text-decoration:none;\">Kernel</a>(<a href=\"https://fricas.github.io/api/Expression.html\" target=\"_blank\" style=\"color:blue;text-decoration:none;\">Expression</a>(<a href=\"https://fricas.github.io/api/Integer.html\" target=\"_blank\" style=\"color:blue;text-decoration:none;\">Integer</a>))))</sub></div>"
      ]
     },
     "metadata": {},
     "output_type": "display_data"
    }
   ],
   "source": [
    "hlap:=rhs(eqlap);\n",
    "eqhlap:= - numer(hlap) = denom(hlap)"
   ]
  },
  {
   "cell_type": "markdown",
   "id": "interesting-medline",
   "metadata": {},
   "source": [
    "Thus $H$ satisfies the equation: $\\operatorname{det} D^2\\,H = H_t^3 (H+H_{pp}) + H_t^2 - H H_{tt}$. From above we have $J=H_t (H+H_{pp})$ and with $R=\\operatorname{det} D^2 u$, it follows that $R H_t^4 (H+H_{pp}) = R H_t^3  J = H_{tt}$."
   ]
  },
  {
   "cell_type": "code",
   "execution_count": null,
   "id": "historical-painting",
   "metadata": {},
   "outputs": [],
   "source": []
  }
 ],
 "metadata": {
  "kernelspec": {
   "display_name": "FriCAS",
   "language": "spad",
   "name": "jfricas"
  },
  "language_info": {
   "file_extension": ".input",
   "mimetype": "text/plain",
   "name": "spad"
  }
 },
 "nbformat": 4,
 "nbformat_minor": 5
}
